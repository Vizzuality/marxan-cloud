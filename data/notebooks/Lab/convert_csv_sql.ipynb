{
 "cells": [
  {
   "cell_type": "markdown",
   "id": "digital-marriage",
   "metadata": {},
   "source": [
    "# Generator of sql fixtures for data testing\n",
    "\n",
    "This notebook adds a methodology to generate data for doing api testing."
   ]
  },
  {
   "cell_type": "code",
   "execution_count": null,
   "id": "hawaiian-portable",
   "metadata": {},
   "outputs": [],
   "source": [
    "import pandas as pd"
   ]
  },
  {
   "cell_type": "markdown",
   "id": "thorough-right",
   "metadata": {},
   "source": [
    "## Features"
   ]
  },
  {
   "cell_type": "markdown",
   "id": "maritime-gathering",
   "metadata": {},
   "source": [
    "### Meta"
   ]
  },
  {
   "cell_type": "code",
   "execution_count": null,
   "id": "reserved-investigator",
   "metadata": {},
   "outputs": [],
   "source": [
    "api_features = pd.read_csv('/home/jovyan/work/datasets/processed/api_features_okavango.csv', na_filter=False)\n",
    "features_data = pd.read_csv('/home/jovyan/work/datasets/processed/geo_features_data_okavango.csv', na_filter=False)\n",
    "api_features.head(3)"
   ]
  },
  {
   "cell_type": "code",
   "execution_count": null,
   "id": "fatal-thong",
   "metadata": {},
   "outputs": [],
   "source": [
    "filtered_api_features = api_features[api_features.id.isin(features_data.features_id.unique())]"
   ]
  },
  {
   "cell_type": "code",
   "execution_count": null,
   "id": "optimum-spread",
   "metadata": {},
   "outputs": [],
   "source": [
    "columns = list(filter(lambda x: x not in ['id', 'created_at', 'last_modified_at'], api_features.columns.values))\n",
    "columnsForData = list(filter(lambda x: x not in ['id', 'created_at', 'last_modified_at', 'created_by'], api_features.columns.values))\n",
    "\n"
   ]
  },
  {
   "cell_type": "code",
   "execution_count": null,
   "id": "level-animation",
   "metadata": {},
   "outputs": [],
   "source": [
    "text = []\n",
    "for id, row in filtered_api_features[columnsForData].iterrows():\n",
    "    dataFortext = \",\".join([f\"'{x}'\" if type(x) == str else str(x) for x in row.values])\n",
    "    text.append(f\"({dataFortext}, (SELECT id FROM users WHERE email = 'aa@example.com'))\")\n",
    "\n"
   ]
  },
  {
   "cell_type": "code",
   "execution_count": null,
   "id": "concerned-observer",
   "metadata": {},
   "outputs": [],
   "source": [
    "insertQuery=f'''\n",
    "INSERT INTO features \n",
    "({', '.join(columns)})\n",
    "VALUES\n",
    "{', '.join(text)};\n",
    "'''\n",
    "with open(f\"/home/jovyan/work/datasets/processed/features.sql\", \"w\")as f:\n",
    "    f.write(insertQuery)\n",
    "    "
   ]
  },
  {
   "cell_type": "markdown",
   "id": "danish-panic",
   "metadata": {},
   "source": [
    "### Data"
   ]
  },
  {
   "cell_type": "code",
   "execution_count": null,
   "id": "enclosed-symbol",
   "metadata": {},
   "outputs": [],
   "source": [
    "features_data.head(3)"
   ]
  },
  {
   "cell_type": "code",
   "execution_count": null,
   "id": "concerned-jaguar",
   "metadata": {},
   "outputs": [],
   "source": [
    "columns = list(filter(lambda x: x not in ['id', 'features_id'], features_data.columns.values))\n",
    "columnsForData = list(filter(lambda x: x not in ['id', 'created_at', 'last_modified_at', 'features_id'], \n",
    "                             features_data.columns.values))\n",
    "print(columns)\n",
    "print(columnsForData)"
   ]
  },
  {
   "cell_type": "code",
   "execution_count": null,
   "id": "corresponding-numbers",
   "metadata": {},
   "outputs": [],
   "source": [
    "text=[]\n",
    "for id, row in features_data[columnsForData].iterrows():\n",
    "    dataFortext = \",\".join([f\"'{x}'\" if type(x) == str else str(x) for x in row.values])\n",
    "    text.append(f\"({dataFortext}, (SELECT id FROM users WHERE email = 'aa@example.com'))\")\n",
    "    print(text)\n",
    "    break"
   ]
  },
  {
   "cell_type": "code",
   "execution_count": null,
   "id": "future-stock",
   "metadata": {},
   "outputs": [],
   "source": [
    "insertQuery=f'''\n",
    "INSERT INTO features \n",
    "({', '.join(columns)})\n",
    "VALUES\n",
    "{', '.join(text)};\n",
    "'''\n",
    "for feature_id in id_list:\n",
    "    with open(f\"/home/jovyan/work/datasets/processed/{feature_id}.sql\", \"w\")as f:\n",
    "        f.write(insertQuery)"
   ]
  },
  {
   "cell_type": "markdown",
   "id": "beginning-throw",
   "metadata": {},
   "source": [
    "# WDPA"
   ]
  },
  {
   "cell_type": "code",
   "execution_count": null,
   "id": "important-catholic",
   "metadata": {},
   "outputs": [],
   "source": [
    "wdpa = pd.read_csv('/home/jovyan/work/datasets/processed/geo_wdpa_okavango.csv', na_filter=False)\n",
    "wdpa.head(3)"
   ]
  },
  {
   "cell_type": "code",
   "execution_count": null,
   "id": "waiting-republican",
   "metadata": {},
   "outputs": [],
   "source": [
    "columns = list(filter(lambda x: x not in ['id', 'created_at', 'last_modified_at'], wdpa.columns.values))\n",
    "columnsForData = list(filter(lambda x: x not in ['id', 'created_at', 'last_modified_at', 'created_by'], \n",
    "                             wdpa.columns.values))\n",
    "print(columns)\n",
    "print(columnsForData)"
   ]
  },
  {
   "cell_type": "code",
   "execution_count": null,
   "id": "dietary-trinidad",
   "metadata": {},
   "outputs": [],
   "source": [
    "text=[]\n",
    "for id, row in wdpa[columnsForData].iterrows():\n",
    "    dataFortext = \",\".join([f\"'{x}'\" if type(x) == str else str(x) for x in row.values])\n",
    "    text.append(f\"({dataFortext}, (SELECT id FROM users WHERE email = 'aa@example.com'))\")"
   ]
  },
  {
   "cell_type": "code",
   "execution_count": null,
   "id": "confident-exclusion",
   "metadata": {},
   "outputs": [],
   "source": [
    "insertQuery=f'''\n",
    "INSERT INTO features \n",
    "({', '.join(columns)})\n",
    "VALUES\n",
    "{', '.join(text)};\n",
    "'''\n",
    "with open(f\"/home/jovyan/work/datasets/processed/wdpa.sql\", \"w\")as f:\n",
    "    f.write(insertQuery)"
   ]
  },
  {
   "cell_type": "markdown",
   "id": "blond-split",
   "metadata": {},
   "source": [
    "# Admin Regions"
   ]
  },
  {
   "cell_type": "code",
   "execution_count": null,
   "id": "interested-essay",
   "metadata": {},
   "outputs": [],
   "source": [
    "admin_regions = pd.read_csv('/home/jovyan/work/datasets/processed/geo_admin_regions_okavango.csv', na_filter=False)\n",
    "admin_regions.head(3)"
   ]
  },
  {
   "cell_type": "code",
   "execution_count": null,
   "id": "parliamentary-pitch",
   "metadata": {},
   "outputs": [],
   "source": [
    "columns = list(filter(lambda x: x not in ['id', 'created_at', 'last_modified_at'], wdpa.columns.values))\n",
    "columnsForData = list(filter(lambda x: x not in ['id', 'created_at', 'last_modified_at', 'created_by'], \n",
    "                             wdpa.columns.values))\n",
    "print(columns)\n",
    "print(columnsForData)"
   ]
  },
  {
   "cell_type": "code",
   "execution_count": null,
   "id": "widespread-honor",
   "metadata": {},
   "outputs": [],
   "source": [
    "text=[]\n",
    "for id, row in admin_regions[columnsForData].iterrows():\n",
    "    dataFortext = \",\".join([f\"'{x}'\" if type(x) == str else str(x) for x in row.values])\n",
    "    text.append(f\"({dataFortext}, '$USERID'\")"
   ]
  },
  {
   "cell_type": "code",
   "execution_count": null,
   "id": "innovative-mandate",
   "metadata": {},
   "outputs": [],
   "source": [
    "insertQuery=f'''\n",
    "INSERT INTO features \n",
    "({', '.join(columns)})\n",
    "VALUES\n",
    "{', '.join(text)};\n",
    "'''\n",
    "with open(f\"/home/jovyan/work/datasets/processed/admin_region.sql\", \"w\")as f:\n",
    "    f.write(insertQuery)"
   ]
  }
 ],
 "metadata": {
  "kernelspec": {
   "display_name": "Python 3",
   "language": "python",
   "name": "python3"
  },
  "language_info": {
   "codemirror_mode": {
    "name": "ipython",
    "version": 3
   },
   "file_extension": ".py",
   "mimetype": "text/x-python",
   "name": "python",
   "nbconvert_exporter": "python",
   "pygments_lexer": "ipython3",
   "version": "3.8.8"
  }
 },
 "nbformat": 4,
 "nbformat_minor": 5
}
