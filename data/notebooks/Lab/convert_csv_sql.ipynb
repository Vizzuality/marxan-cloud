{
 "cells": [
  {
   "cell_type": "markdown",
   "id": "fourth-economy",
   "metadata": {},
   "source": [
    "# Generator of sql fixtures for data testing\n",
    "\n",
    "This notebook adds a methodology to generate data for doing api testing."
   ]
  },
  {
   "cell_type": "code",
   "execution_count": 2,
   "id": "juvenile-amateur",
   "metadata": {},
   "outputs": [],
   "source": [
    "import pandas as pd\n",
    "import os"
   ]
  },
  {
   "cell_type": "markdown",
   "id": "opposite-concept",
   "metadata": {},
   "source": [
    "# WDPA"
   ]
  },
  {
   "cell_type": "code",
   "execution_count": 3,
   "id": "recent-share",
   "metadata": {},
   "outputs": [
    {
     "data": {
      "text/html": [
       "<div>\n",
       "<style scoped>\n",
       "    .dataframe tbody tr th:only-of-type {\n",
       "        vertical-align: middle;\n",
       "    }\n",
       "\n",
       "    .dataframe tbody tr th {\n",
       "        vertical-align: top;\n",
       "    }\n",
       "\n",
       "    .dataframe thead th {\n",
       "        text-align: right;\n",
       "    }\n",
       "</style>\n",
       "<table border=\"1\" class=\"dataframe\">\n",
       "  <thead>\n",
       "    <tr style=\"text-align: right;\">\n",
       "      <th></th>\n",
       "      <th>id</th>\n",
       "      <th>wdpaid</th>\n",
       "      <th>the_geom</th>\n",
       "      <th>full_name</th>\n",
       "      <th>iucn_cat</th>\n",
       "      <th>shape_leng</th>\n",
       "      <th>shape_area</th>\n",
       "      <th>iso3</th>\n",
       "      <th>status</th>\n",
       "      <th>desig</th>\n",
       "      <th>created_at</th>\n",
       "      <th>created_by</th>\n",
       "      <th>last_modified_at</th>\n",
       "      <th>project_id</th>\n",
       "    </tr>\n",
       "  </thead>\n",
       "  <tbody>\n",
       "    <tr>\n",
       "      <th>0</th>\n",
       "      <td>d211e6e2-34e8-44fd-9a52-ca65047e4372</td>\n",
       "      <td>349</td>\n",
       "      <td>0106000020E61000000100000001030000000100000089...</td>\n",
       "      <td>null</td>\n",
       "      <td>II</td>\n",
       "      <td>null</td>\n",
       "      <td>null</td>\n",
       "      <td>AGO</td>\n",
       "      <td>Designated</td>\n",
       "      <td>National Park</td>\n",
       "      <td>2021-10-29 10:31:00.035909</td>\n",
       "      <td>48760af4-679b-4c55-86ce-2e5039c0c8e8</td>\n",
       "      <td>2021-10-29 10:31:00.035909</td>\n",
       "      <td>null</td>\n",
       "    </tr>\n",
       "    <tr>\n",
       "      <th>1</th>\n",
       "      <td>1da44f83-7cbf-49a0-8766-32a1169807a7</td>\n",
       "      <td>600</td>\n",
       "      <td>0106000020E610000001000000010300000001000000C2...</td>\n",
       "      <td>null</td>\n",
       "      <td>Ib</td>\n",
       "      <td>null</td>\n",
       "      <td>null</td>\n",
       "      <td>BWA</td>\n",
       "      <td>Designated</td>\n",
       "      <td>National Park</td>\n",
       "      <td>2021-10-29 10:31:00.035909</td>\n",
       "      <td>48760af4-679b-4c55-86ce-2e5039c0c8e8</td>\n",
       "      <td>2021-10-29 10:31:00.035909</td>\n",
       "      <td>null</td>\n",
       "    </tr>\n",
       "    <tr>\n",
       "      <th>2</th>\n",
       "      <td>5c3a42e8-069f-4a3e-8283-960a9c450d76</td>\n",
       "      <td>601</td>\n",
       "      <td>0106000020E610000001000000010300000001000000AD...</td>\n",
       "      <td>null</td>\n",
       "      <td>Ib</td>\n",
       "      <td>null</td>\n",
       "      <td>null</td>\n",
       "      <td>BWA</td>\n",
       "      <td>Designated</td>\n",
       "      <td>National Park</td>\n",
       "      <td>2021-10-29 10:31:00.035909</td>\n",
       "      <td>48760af4-679b-4c55-86ce-2e5039c0c8e8</td>\n",
       "      <td>2021-10-29 10:31:00.035909</td>\n",
       "      <td>null</td>\n",
       "    </tr>\n",
       "  </tbody>\n",
       "</table>\n",
       "</div>"
      ],
      "text/plain": [
       "                                     id  wdpaid  \\\n",
       "0  d211e6e2-34e8-44fd-9a52-ca65047e4372     349   \n",
       "1  1da44f83-7cbf-49a0-8766-32a1169807a7     600   \n",
       "2  5c3a42e8-069f-4a3e-8283-960a9c450d76     601   \n",
       "\n",
       "                                            the_geom full_name iucn_cat  \\\n",
       "0  0106000020E61000000100000001030000000100000089...      null       II   \n",
       "1  0106000020E610000001000000010300000001000000C2...      null       Ib   \n",
       "2  0106000020E610000001000000010300000001000000AD...      null       Ib   \n",
       "\n",
       "  shape_leng shape_area iso3      status          desig  \\\n",
       "0       null       null  AGO  Designated  National Park   \n",
       "1       null       null  BWA  Designated  National Park   \n",
       "2       null       null  BWA  Designated  National Park   \n",
       "\n",
       "                   created_at                            created_by  \\\n",
       "0  2021-10-29 10:31:00.035909  48760af4-679b-4c55-86ce-2e5039c0c8e8   \n",
       "1  2021-10-29 10:31:00.035909  48760af4-679b-4c55-86ce-2e5039c0c8e8   \n",
       "2  2021-10-29 10:31:00.035909  48760af4-679b-4c55-86ce-2e5039c0c8e8   \n",
       "\n",
       "             last_modified_at project_id  \n",
       "0  2021-10-29 10:31:00.035909       null  \n",
       "1  2021-10-29 10:31:00.035909       null  \n",
       "2  2021-10-29 10:31:00.035909       null  "
      ]
     },
     "execution_count": 3,
     "metadata": {},
     "output_type": "execute_result"
    }
   ],
   "source": [
    "wdpa = pd.read_csv('/home/jovyan/work/datasets/processed/geo_wdpa_okavango.csv').fillna('null')\n",
    "wdpa.head(3)"
   ]
  },
  {
   "cell_type": "code",
   "execution_count": 6,
   "id": "rotary-means",
   "metadata": {},
   "outputs": [
    {
     "name": "stdout",
     "output_type": "stream",
     "text": [
      "['wdpaid', 'the_geom', 'full_name', 'iucn_cat', 'shape_leng', 'shape_area', 'iso3', 'status', 'desig', 'created_by']\n",
      "['wdpaid', 'the_geom', 'full_name', 'iucn_cat', 'shape_leng', 'shape_area', 'iso3', 'status', 'desig']\n"
     ]
    }
   ],
   "source": [
    "columns = list(filter(lambda x: x not in ['id', 'created_at', 'last_modified_at', 'project_id'], wdpa.columns.values))\n",
    "columnsForData = list(filter(lambda x: x not in ['id', 'created_at', 'last_modified_at', 'created_by','project_id'], \n",
    "                             wdpa.columns.values))\n",
    "print(columns)\n",
    "print(columnsForData)"
   ]
  },
  {
   "cell_type": "code",
   "execution_count": 7,
   "id": "lightweight-protein",
   "metadata": {},
   "outputs": [],
   "source": [
    "text=[]\n",
    "for id, row in wdpa[columnsForData].iterrows():\n",
    "    dataFortext = \"({rowData[0]}, {rowData[1]}::geometry, {rowData[2]}, {rowData[3]}, {rowData[4]}, {rowData[5]}, {rowData[6]}, {rowData[7]}, {rowData[8]}, '$user')\".format(rowData = ['null' if x == 'null' else f\"'{x}'\" if type(x) == str else str(x) for x in row.values])\n",
    "    text.append(dataFortext)"
   ]
  },
  {
   "cell_type": "code",
   "execution_count": 8,
   "id": "caring-canada",
   "metadata": {},
   "outputs": [],
   "source": [
    "insertQuery=f'''\n",
    "INSERT INTO wdpa \n",
    "({', '.join(columns)})\n",
    "VALUES\n",
    "{', '.join(text)};\n",
    "'''\n",
    "with open(f\"/home/jovyan/work/datasets/processed/test-wdpa-data.sql\", \"w\")as f:\n",
    "    f.write(insertQuery)"
   ]
  },
  {
   "cell_type": "markdown",
   "id": "graphic-arbor",
   "metadata": {},
   "source": [
    "# Admin Regions"
   ]
  },
  {
   "cell_type": "code",
   "execution_count": 9,
   "id": "ready-sequence",
   "metadata": {},
   "outputs": [
    {
     "data": {
      "text/html": [
       "<div>\n",
       "<style scoped>\n",
       "    .dataframe tbody tr th:only-of-type {\n",
       "        vertical-align: middle;\n",
       "    }\n",
       "\n",
       "    .dataframe tbody tr th {\n",
       "        vertical-align: top;\n",
       "    }\n",
       "\n",
       "    .dataframe thead th {\n",
       "        text-align: right;\n",
       "    }\n",
       "</style>\n",
       "<table border=\"1\" class=\"dataframe\">\n",
       "  <thead>\n",
       "    <tr style=\"text-align: right;\">\n",
       "      <th></th>\n",
       "      <th>id</th>\n",
       "      <th>the_geom</th>\n",
       "      <th>name_0</th>\n",
       "      <th>name_1</th>\n",
       "      <th>name_2</th>\n",
       "      <th>iso3</th>\n",
       "      <th>gid_0</th>\n",
       "      <th>gid_1</th>\n",
       "      <th>gid_2</th>\n",
       "      <th>level</th>\n",
       "      <th>created_at</th>\n",
       "      <th>created_by</th>\n",
       "      <th>last_modified_at</th>\n",
       "      <th>bbox</th>\n",
       "      <th>max_pu_area_size</th>\n",
       "      <th>min_pu_area_size</th>\n",
       "      <th>hash</th>\n",
       "    </tr>\n",
       "  </thead>\n",
       "  <tbody>\n",
       "    <tr>\n",
       "      <th>0</th>\n",
       "      <td>9b914975-229e-40de-8cec-baba700b77bc</td>\n",
       "      <td>0106000020E610000018000000010300000001000000F3...</td>\n",
       "      <td>Angola</td>\n",
       "      <td>null</td>\n",
       "      <td>null</td>\n",
       "      <td>null</td>\n",
       "      <td>AGO</td>\n",
       "      <td>null</td>\n",
       "      <td>null</td>\n",
       "      <td>country</td>\n",
       "      <td>2021-10-29 09:55:00.422352</td>\n",
       "      <td>48760af4-679b-4c55-86ce-2e5039c0c8e8</td>\n",
       "      <td>2021-10-29 09:55:00.422352</td>\n",
       "      <td>[24.08211708, 11.66874886, -4.372591018676758,...</td>\n",
       "      <td>1252305</td>\n",
       "      <td>136</td>\n",
       "      <td>5977752f36a7b263e699d18b03c089e4</td>\n",
       "    </tr>\n",
       "    <tr>\n",
       "      <th>1</th>\n",
       "      <td>a22f318a-8bb7-4764-a98e-84f96d529707</td>\n",
       "      <td>0106000020E6100000010000000103000000010000009B...</td>\n",
       "      <td>Botswana</td>\n",
       "      <td>null</td>\n",
       "      <td>null</td>\n",
       "      <td>null</td>\n",
       "      <td>BWA</td>\n",
       "      <td>null</td>\n",
       "      <td>null</td>\n",
       "      <td>country</td>\n",
       "      <td>2021-10-29 09:55:00.422352</td>\n",
       "      <td>48760af4-679b-4c55-86ce-2e5039c0c8e8</td>\n",
       "      <td>2021-10-29 09:55:00.422352</td>\n",
       "      <td>[29.36831092834484, 19.999534606933707, -17.78...</td>\n",
       "      <td>579407</td>\n",
       "      <td>63</td>\n",
       "      <td>7050918d24c72509766a0ee93839258a</td>\n",
       "    </tr>\n",
       "    <tr>\n",
       "      <th>2</th>\n",
       "      <td>e1df8d49-d26f-4b98-ad37-c4c88efbe2eb</td>\n",
       "      <td>0106000020E6100000090000000103000000010000002A...</td>\n",
       "      <td>Democratic Republic of the Congo</td>\n",
       "      <td>null</td>\n",
       "      <td>null</td>\n",
       "      <td>null</td>\n",
       "      <td>COD</td>\n",
       "      <td>null</td>\n",
       "      <td>null</td>\n",
       "      <td>country</td>\n",
       "      <td>2021-10-29 09:55:00.422352</td>\n",
       "      <td>48760af4-679b-4c55-86ce-2e5039c0c8e8</td>\n",
       "      <td>2021-10-29 09:55:00.422352</td>\n",
       "      <td>[31.305704116821346, 12.206628799438647, 5.386...</td>\n",
       "      <td>2339489</td>\n",
       "      <td>254</td>\n",
       "      <td>bfc0ea62146fa5455edfdf293bdc12ad</td>\n",
       "    </tr>\n",
       "  </tbody>\n",
       "</table>\n",
       "</div>"
      ],
      "text/plain": [
       "                                     id  \\\n",
       "0  9b914975-229e-40de-8cec-baba700b77bc   \n",
       "1  a22f318a-8bb7-4764-a98e-84f96d529707   \n",
       "2  e1df8d49-d26f-4b98-ad37-c4c88efbe2eb   \n",
       "\n",
       "                                            the_geom  \\\n",
       "0  0106000020E610000018000000010300000001000000F3...   \n",
       "1  0106000020E6100000010000000103000000010000009B...   \n",
       "2  0106000020E6100000090000000103000000010000002A...   \n",
       "\n",
       "                             name_0 name_1 name_2  iso3 gid_0 gid_1 gid_2  \\\n",
       "0                            Angola   null   null  null   AGO  null  null   \n",
       "1                          Botswana   null   null  null   BWA  null  null   \n",
       "2  Democratic Republic of the Congo   null   null  null   COD  null  null   \n",
       "\n",
       "     level                  created_at                            created_by  \\\n",
       "0  country  2021-10-29 09:55:00.422352  48760af4-679b-4c55-86ce-2e5039c0c8e8   \n",
       "1  country  2021-10-29 09:55:00.422352  48760af4-679b-4c55-86ce-2e5039c0c8e8   \n",
       "2  country  2021-10-29 09:55:00.422352  48760af4-679b-4c55-86ce-2e5039c0c8e8   \n",
       "\n",
       "             last_modified_at  \\\n",
       "0  2021-10-29 09:55:00.422352   \n",
       "1  2021-10-29 09:55:00.422352   \n",
       "2  2021-10-29 09:55:00.422352   \n",
       "\n",
       "                                                bbox  max_pu_area_size  \\\n",
       "0  [24.08211708, 11.66874886, -4.372591018676758,...           1252305   \n",
       "1  [29.36831092834484, 19.999534606933707, -17.78...            579407   \n",
       "2  [31.305704116821346, 12.206628799438647, 5.386...           2339489   \n",
       "\n",
       "   min_pu_area_size                              hash  \n",
       "0               136  5977752f36a7b263e699d18b03c089e4  \n",
       "1                63  7050918d24c72509766a0ee93839258a  \n",
       "2               254  bfc0ea62146fa5455edfdf293bdc12ad  "
      ]
     },
     "execution_count": 9,
     "metadata": {},
     "output_type": "execute_result"
    }
   ],
   "source": [
    "admin_regions = pd.read_csv('/home/jovyan/work/datasets/processed/geo_admin_regions_okavango.csv').fillna('null')\n",
    "admin_regions.head(3)"
   ]
  },
  {
   "cell_type": "code",
   "execution_count": 12,
   "id": "judicial-assault",
   "metadata": {},
   "outputs": [
    {
     "name": "stdout",
     "output_type": "stream",
     "text": [
      "['the_geom', 'name_0', 'name_1', 'name_2', 'iso3', 'gid_0', 'gid_1', 'gid_2', 'level', 'created_by']\n",
      "['the_geom', 'name_0', 'name_1', 'name_2', 'iso3', 'gid_0', 'gid_1', 'gid_2', 'level']\n"
     ]
    }
   ],
   "source": [
    "columns = list(filter(lambda x: x not in ['id', 'created_at', 'last_modified_at', 'hash', 'max_pu_area_size','min_pu_area_size', 'bbox'], admin_regions.columns.values))\n",
    "columnsForData = list(filter(lambda x: x not in ['id', 'created_at', 'last_modified_at', 'created_by', 'hash','max_pu_area_size','min_pu_area_size', 'bbox'], \n",
    "                             admin_regions.columns.values))\n",
    "print(columns)\n",
    "print(columnsForData)"
   ]
  },
  {
   "cell_type": "code",
   "execution_count": 13,
   "id": "executive-rough",
   "metadata": {},
   "outputs": [],
   "source": [
    "text=[]\n",
    "for id, row in admin_regions[columnsForData].iterrows():\n",
    "    dataFortext = \"({rowData[0]}::geometry, {rowData[1]}, {rowData[2]}, {rowData[3]}, {rowData[4]}, {rowData[5]}, {rowData[6]}, {rowData[7]}, {rowData[8]}, '$user')\".format(rowData = ['null' if x == 'null' else f\"'{x}'\" if type(x) == str else str(x) for x in row.values])\n",
    "    text.append(dataFortext)"
   ]
  },
  {
   "cell_type": "code",
   "execution_count": 14,
   "id": "federal-roads",
   "metadata": {},
   "outputs": [],
   "source": [
    "insertQuery=f'''\n",
    "INSERT INTO admin_regions \n",
    "({', '.join(columns)})\n",
    "VALUES\n",
    "{', '.join(text)};\n",
    "'''\n",
    "with open(f\"/home/jovyan/work/datasets/processed/test-admin-data.sql\", \"w\")as f:\n",
    "    f.write(insertQuery)"
   ]
  },
  {
   "cell_type": "markdown",
   "id": "martial-catch",
   "metadata": {},
   "source": [
    "## Features"
   ]
  },
  {
   "cell_type": "markdown",
   "id": "equivalent-passion",
   "metadata": {},
   "source": [
    "### Meta"
   ]
  },
  {
   "cell_type": "code",
   "execution_count": 15,
   "id": "gentle-defeat",
   "metadata": {},
   "outputs": [
    {
     "data": {
      "text/html": [
       "<div>\n",
       "<style scoped>\n",
       "    .dataframe tbody tr th:only-of-type {\n",
       "        vertical-align: middle;\n",
       "    }\n",
       "\n",
       "    .dataframe tbody tr th {\n",
       "        vertical-align: top;\n",
       "    }\n",
       "\n",
       "    .dataframe thead th {\n",
       "        text-align: right;\n",
       "    }\n",
       "</style>\n",
       "<table border=\"1\" class=\"dataframe\">\n",
       "  <thead>\n",
       "    <tr style=\"text-align: right;\">\n",
       "      <th></th>\n",
       "      <th>id</th>\n",
       "      <th>feature_class_name</th>\n",
       "      <th>alias</th>\n",
       "      <th>description</th>\n",
       "      <th>property_name</th>\n",
       "      <th>intersection</th>\n",
       "      <th>tag</th>\n",
       "      <th>creation_status</th>\n",
       "      <th>created_at</th>\n",
       "      <th>created_by</th>\n",
       "      <th>last_modified_at</th>\n",
       "      <th>project_id</th>\n",
       "      <th>list_property_keys</th>\n",
       "    </tr>\n",
       "  </thead>\n",
       "  <tbody>\n",
       "    <tr>\n",
       "      <th>0</th>\n",
       "      <td>2bec8c6f-0e69-4ae1-8e6c-8e6da8be02ae</td>\n",
       "      <td>demo_acinonyx_jubatus</td>\n",
       "      <td>Acinonyx_jubatus</td>\n",
       "      <td>null</td>\n",
       "      <td>name</td>\n",
       "      <td>null</td>\n",
       "      <td>species</td>\n",
       "      <td>created</td>\n",
       "      <td>2021-10-29 10:39:46.919753</td>\n",
       "      <td>48760af4-679b-4c55-86ce-2e5039c0c8e8</td>\n",
       "      <td>2021-10-29 10:39:46.919753</td>\n",
       "      <td>null</td>\n",
       "      <td>[\"ogc_fid\", \"name\", \"gridcode\"]</td>\n",
       "    </tr>\n",
       "    <tr>\n",
       "      <th>1</th>\n",
       "      <td>91c0d661-c19c-48b1-b7c3-804f910748d0</td>\n",
       "      <td>demo_bucorvus_leadbeateri</td>\n",
       "      <td>Bucorvus_leadbeateri</td>\n",
       "      <td>null</td>\n",
       "      <td>id</td>\n",
       "      <td>null</td>\n",
       "      <td>species</td>\n",
       "      <td>created</td>\n",
       "      <td>2021-10-29 10:40:16.407778</td>\n",
       "      <td>48760af4-679b-4c55-86ce-2e5039c0c8e8</td>\n",
       "      <td>2021-10-29 10:40:16.407778</td>\n",
       "      <td>null</td>\n",
       "      <td>[\"objectid\", \"id\", \"shape_leng\", \"ogc_fid\", \"s...</td>\n",
       "    </tr>\n",
       "    <tr>\n",
       "      <th>2</th>\n",
       "      <td>ef320873-d861-4e54-a662-a0f3f441054b</td>\n",
       "      <td>demo_buteogallus_urubitinga</td>\n",
       "      <td>Buteogallus_urubitinga</td>\n",
       "      <td>null</td>\n",
       "      <td>id</td>\n",
       "      <td>null</td>\n",
       "      <td>species</td>\n",
       "      <td>created</td>\n",
       "      <td>2021-10-29 10:40:19.380089</td>\n",
       "      <td>48760af4-679b-4c55-86ce-2e5039c0c8e8</td>\n",
       "      <td>2021-10-29 10:40:19.380089</td>\n",
       "      <td>null</td>\n",
       "      <td>[\"id\", \"ogc_fid\", \"gridcode\"]</td>\n",
       "    </tr>\n",
       "  </tbody>\n",
       "</table>\n",
       "</div>"
      ],
      "text/plain": [
       "                                     id           feature_class_name  \\\n",
       "0  2bec8c6f-0e69-4ae1-8e6c-8e6da8be02ae        demo_acinonyx_jubatus   \n",
       "1  91c0d661-c19c-48b1-b7c3-804f910748d0    demo_bucorvus_leadbeateri   \n",
       "2  ef320873-d861-4e54-a662-a0f3f441054b  demo_buteogallus_urubitinga   \n",
       "\n",
       "                    alias description property_name intersection      tag  \\\n",
       "0        Acinonyx_jubatus        null          name         null  species   \n",
       "1    Bucorvus_leadbeateri        null            id         null  species   \n",
       "2  Buteogallus_urubitinga        null            id         null  species   \n",
       "\n",
       "  creation_status                  created_at  \\\n",
       "0         created  2021-10-29 10:39:46.919753   \n",
       "1         created  2021-10-29 10:40:16.407778   \n",
       "2         created  2021-10-29 10:40:19.380089   \n",
       "\n",
       "                             created_by            last_modified_at  \\\n",
       "0  48760af4-679b-4c55-86ce-2e5039c0c8e8  2021-10-29 10:39:46.919753   \n",
       "1  48760af4-679b-4c55-86ce-2e5039c0c8e8  2021-10-29 10:40:16.407778   \n",
       "2  48760af4-679b-4c55-86ce-2e5039c0c8e8  2021-10-29 10:40:19.380089   \n",
       "\n",
       "  project_id                                 list_property_keys  \n",
       "0       null                    [\"ogc_fid\", \"name\", \"gridcode\"]  \n",
       "1       null  [\"objectid\", \"id\", \"shape_leng\", \"ogc_fid\", \"s...  \n",
       "2       null                      [\"id\", \"ogc_fid\", \"gridcode\"]  "
      ]
     },
     "execution_count": 15,
     "metadata": {},
     "output_type": "execute_result"
    }
   ],
   "source": [
    "api_features = pd.read_csv('/home/jovyan/work/datasets/processed/api_features_okavango.csv').fillna('null')\n",
    "features_data = pd.read_csv('/home/jovyan/work/datasets/processed/geo_features_data_okavango.csv').fillna('null')\n",
    "api_features.head(3)"
   ]
  },
  {
   "cell_type": "code",
   "execution_count": 16,
   "id": "earlier-lithuania",
   "metadata": {},
   "outputs": [],
   "source": [
    "_filter = features_data.feature_id.unique()[:9]\n",
    "filtered_api_features = api_features[api_features.id.isin(_filter)]\n",
    "filtered_data_features = features_data[features_data.feature_id.isin(_filter)]"
   ]
  },
  {
   "cell_type": "code",
   "execution_count": 18,
   "id": "advised-talent",
   "metadata": {},
   "outputs": [
    {
     "name": "stdout",
     "output_type": "stream",
     "text": [
      "['feature_class_name', 'alias', 'description', 'property_name', 'intersection', 'tag', 'creation_status', 'created_by']\n",
      "['feature_class_name', 'alias', 'description', 'property_name', 'intersection', 'tag', 'creation_status']\n"
     ]
    }
   ],
   "source": [
    "columns = list(filter(lambda x: x not in ['id', 'created_at', 'last_modified_at','project_id', 'list_property_keys'], api_features.columns.values))\n",
    "columnsForData = list(filter(lambda x: x not in ['id', 'created_at', 'last_modified_at', 'created_by','project_id', 'list_property_keys'], api_features.columns.values))\n",
    "print(columns)\n",
    "print(columnsForData)"
   ]
  },
  {
   "cell_type": "code",
   "execution_count": 19,
   "id": "aware-sport",
   "metadata": {},
   "outputs": [],
   "source": [
    "text = []\n",
    "for id, row in filtered_api_features[columnsForData].iterrows():\n",
    "    dataFortext = \"({rowData[0]}, {rowData[1]}, {rowData[2]}, {rowData[3]}, {rowData[4]}, {rowData[5]}, {rowData[6]}, (SELECT id FROM users WHERE email = 'aa@example.com'))\".format(rowData = ['null' if x == 'null' else f\"'{x}'\" if type(x) == str else str(x) for x in row.values])\n",
    "    text.append(dataFortext)"
   ]
  },
  {
   "cell_type": "code",
   "execution_count": 20,
   "id": "controlled-asthma",
   "metadata": {},
   "outputs": [],
   "source": [
    "insertQuery=f'''\n",
    "INSERT INTO features \n",
    "({', '.join(columns)})\n",
    "VALUES\n",
    "{', '.join(text)};\n",
    "'''\n",
    "with open(f\"/home/jovyan/work/datasets/processed/test-features.sql\", \"w\")as f:\n",
    "    f.write(insertQuery)\n",
    "    "
   ]
  },
  {
   "cell_type": "markdown",
   "id": "overall-taylor",
   "metadata": {},
   "source": [
    "### Data"
   ]
  },
  {
   "cell_type": "code",
   "execution_count": 21,
   "id": "stuffed-tuner",
   "metadata": {},
   "outputs": [
    {
     "name": "stdout",
     "output_type": "stream",
     "text": [
      "['the_geom', 'properties', 'source', 'feature_id']\n",
      "['the_geom', 'properties', 'source']\n"
     ]
    }
   ],
   "source": [
    "columns = list(filter(lambda x: x not in ['id'], features_data.columns.values))\n",
    "columnsForData = list(filter(lambda x: x not in ['id', 'created_at', 'last_modified_at', 'feature_id'], \n",
    "                             features_data.columns.values))\n",
    "print(columns)\n",
    "print(columnsForData)"
   ]
  },
  {
   "cell_type": "code",
   "execution_count": 22,
   "id": "moral-lawsuit",
   "metadata": {},
   "outputs": [],
   "source": [
    "if not os.path.exists('/home/jovyan/work/datasets/processed/features'):\n",
    "    os.makedirs('/home/jovyan/work/datasets/processed/features')\n",
    "for posx, feature_row in filtered_api_features.iterrows():\n",
    "    text=[]\n",
    "    for id, row in filtered_data_features[filtered_data_features.feature_id.isin([feature_row.id])][columnsForData].iterrows():\n",
    "        dataFortext = \"({rowData[0]}::geometry, {rowData[1]}::jsonb, {rowData[2]}, '$feature_id')\".format(rowData = ['null' if x == 'null' else f\"'{x}'\" if type(x) == str else str(x) for x in row.values])\n",
    "        text.append(dataFortext)\n",
    "    insertQuery=f'''\n",
    "    INSERT INTO features_data \n",
    "    ({', '.join(columns)})\n",
    "    VALUES\n",
    "    {', '.join(text)};\n",
    "    '''\n",
    "    with open(f\"/home/jovyan/work/datasets/processed/features/{feature_row.feature_class_name}.sql\", \"w\")as f:\n",
    "        f.write(insertQuery)"
   ]
  }
 ],
 "metadata": {
  "kernelspec": {
   "display_name": "Python 3 (ipykernel)",
   "language": "python",
   "name": "python3"
  },
  "language_info": {
   "codemirror_mode": {
    "name": "ipython",
    "version": 3
   },
   "file_extension": ".py",
   "mimetype": "text/x-python",
   "name": "python",
   "nbconvert_exporter": "python",
   "pygments_lexer": "ipython3",
   "version": "3.8.12"
  }
 },
 "nbformat": 4,
 "nbformat_minor": 5
}
