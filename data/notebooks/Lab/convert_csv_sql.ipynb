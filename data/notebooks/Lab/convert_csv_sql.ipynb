{
 "cells": [
  {
   "cell_type": "code",
   "execution_count": 5,
   "id": "spanish-hebrew",
   "metadata": {},
   "outputs": [],
   "source": [
    "import pandas as pd"
   ]
  },
  {
   "cell_type": "code",
   "execution_count": 6,
   "id": "terminal-electronics",
   "metadata": {},
   "outputs": [
    {
     "name": "stdout",
     "output_type": "stream",
     "text": [
      "/home/jovyan/work/notebooks/Lab\n"
     ]
    }
   ],
   "source": [
    "!pwd"
   ]
  },
  {
   "cell_type": "code",
   "execution_count": 9,
   "id": "wanted-translator",
   "metadata": {},
   "outputs": [
    {
     "data": {
      "text/html": [
       "<div>\n",
       "<style scoped>\n",
       "    .dataframe tbody tr th:only-of-type {\n",
       "        vertical-align: middle;\n",
       "    }\n",
       "\n",
       "    .dataframe tbody tr th {\n",
       "        vertical-align: top;\n",
       "    }\n",
       "\n",
       "    .dataframe thead th {\n",
       "        text-align: right;\n",
       "    }\n",
       "</style>\n",
       "<table border=\"1\" class=\"dataframe\">\n",
       "  <thead>\n",
       "    <tr style=\"text-align: right;\">\n",
       "      <th></th>\n",
       "      <th>id</th>\n",
       "      <th>feature_class_name</th>\n",
       "      <th>alias</th>\n",
       "      <th>description</th>\n",
       "      <th>property_name</th>\n",
       "      <th>intersection</th>\n",
       "      <th>tag</th>\n",
       "      <th>creation_status</th>\n",
       "      <th>created_at</th>\n",
       "      <th>created_by</th>\n",
       "      <th>last_modified_at</th>\n",
       "    </tr>\n",
       "  </thead>\n",
       "  <tbody>\n",
       "    <tr>\n",
       "      <th>0</th>\n",
       "      <td>b1d419ee-bb0b-4786-aa59-ed2c5e23deff</td>\n",
       "      <td>iucn_abditomyslatidens</td>\n",
       "      <td>NaN</td>\n",
       "      <td>NaN</td>\n",
       "      <td>binomial</td>\n",
       "      <td>NaN</td>\n",
       "      <td>species</td>\n",
       "      <td>created</td>\n",
       "      <td>2021-02-25 08:47:52.841585</td>\n",
       "      <td>f6058adb-971b-412d-8c2b-1b16c7b0fb4f</td>\n",
       "      <td>2021-02-25 08:47:52.841585</td>\n",
       "    </tr>\n",
       "    <tr>\n",
       "      <th>1</th>\n",
       "      <td>47d140ac-e69a-4186-bbad-897de1ea3ce0</td>\n",
       "      <td>iucn_abeomelomyssevia</td>\n",
       "      <td>NaN</td>\n",
       "      <td>NaN</td>\n",
       "      <td>binomial</td>\n",
       "      <td>NaN</td>\n",
       "      <td>species</td>\n",
       "      <td>created</td>\n",
       "      <td>2021-02-25 08:47:52.998951</td>\n",
       "      <td>f6058adb-971b-412d-8c2b-1b16c7b0fb4f</td>\n",
       "      <td>2021-02-25 08:47:52.998951</td>\n",
       "    </tr>\n",
       "    <tr>\n",
       "      <th>2</th>\n",
       "      <td>ab5f0511-4c7b-449f-8035-b68997eb3087</td>\n",
       "      <td>iucn_abrawayaomyschebezi</td>\n",
       "      <td>NaN</td>\n",
       "      <td>NaN</td>\n",
       "      <td>binomial</td>\n",
       "      <td>NaN</td>\n",
       "      <td>species</td>\n",
       "      <td>created</td>\n",
       "      <td>2021-02-25 08:47:53.152512</td>\n",
       "      <td>f6058adb-971b-412d-8c2b-1b16c7b0fb4f</td>\n",
       "      <td>2021-02-25 08:47:53.152512</td>\n",
       "    </tr>\n",
       "  </tbody>\n",
       "</table>\n",
       "</div>"
      ],
      "text/plain": [
       "                                     id        feature_class_name  alias  \\\n",
       "0  b1d419ee-bb0b-4786-aa59-ed2c5e23deff    iucn_abditomyslatidens    NaN   \n",
       "1  47d140ac-e69a-4186-bbad-897de1ea3ce0     iucn_abeomelomyssevia    NaN   \n",
       "2  ab5f0511-4c7b-449f-8035-b68997eb3087  iucn_abrawayaomyschebezi    NaN   \n",
       "\n",
       "   description property_name  intersection      tag creation_status  \\\n",
       "0          NaN      binomial           NaN  species         created   \n",
       "1          NaN      binomial           NaN  species         created   \n",
       "2          NaN      binomial           NaN  species         created   \n",
       "\n",
       "                   created_at                            created_by  \\\n",
       "0  2021-02-25 08:47:52.841585  f6058adb-971b-412d-8c2b-1b16c7b0fb4f   \n",
       "1  2021-02-25 08:47:52.998951  f6058adb-971b-412d-8c2b-1b16c7b0fb4f   \n",
       "2  2021-02-25 08:47:53.152512  f6058adb-971b-412d-8c2b-1b16c7b0fb4f   \n",
       "\n",
       "             last_modified_at  \n",
       "0  2021-02-25 08:47:52.841585  \n",
       "1  2021-02-25 08:47:52.998951  \n",
       "2  2021-02-25 08:47:53.152512  "
      ]
     },
     "execution_count": 9,
     "metadata": {},
     "output_type": "execute_result"
    }
   ],
   "source": [
    "api_features = pd.read_csv('/home/jovyan/work/datasets/processed/api_features_okavango.csv')\n",
    "api_features.head(3)"
   ]
  },
  {
   "cell_type": "code",
   "execution_count": 30,
   "id": "chemical-petroleum",
   "metadata": {},
   "outputs": [],
   "source": [
    "columns = list(filter(lambda x: x not in ['id', 'created_at', 'last_modified_at'], api_features.columns.values))\n",
    "\n"
   ]
  },
  {
   "cell_type": "code",
   "execution_count": 35,
   "id": "applicable-auditor",
   "metadata": {},
   "outputs": [
    {
     "name": "stdout",
     "output_type": "stream",
     "text": [
      "feature_class_name                  iucn_abditomyslatidens\n",
      "alias                                                  NaN\n",
      "description                                            NaN\n",
      "property_name                                     binomial\n",
      "intersection                                           NaN\n",
      "tag                                                species\n",
      "creation_status                                    created\n",
      "created_by            f6058adb-971b-412d-8c2b-1b16c7b0fb4f\n",
      "Name: 0, dtype: object\n"
     ]
    }
   ],
   "source": [
    "for id, row in api_features[columns].iterrows():\n",
    "    print(row)\n",
    "    break"
   ]
  },
  {
   "cell_type": "code",
   "execution_count": 32,
   "id": "frank-front",
   "metadata": {},
   "outputs": [
    {
     "name": "stdout",
     "output_type": "stream",
     "text": [
      "\n",
      "INSERT INTO features (feature_class_name, alias, description, property_name, intersection, tag, creation_status, created_by)\n",
      "VALUES\n",
      "\n"
     ]
    }
   ],
   "source": [
    "print(f'''\n",
    "INSERT INTO features ({', '.join(columns)})\n",
    "VALUES\n",
    "''')"
   ]
  },
  {
   "cell_type": "code",
   "execution_count": null,
   "id": "general-election",
   "metadata": {},
   "outputs": [],
   "source": []
  }
 ],
 "metadata": {
  "kernelspec": {
   "display_name": "Python 3",
   "language": "python",
   "name": "python3"
  },
  "language_info": {
   "codemirror_mode": {
    "name": "ipython",
    "version": 3
   },
   "file_extension": ".py",
   "mimetype": "text/x-python",
   "name": "python",
   "nbconvert_exporter": "python",
   "pygments_lexer": "ipython3",
   "version": "3.8.8"
  }
 },
 "nbformat": 4,
 "nbformat_minor": 5
}
