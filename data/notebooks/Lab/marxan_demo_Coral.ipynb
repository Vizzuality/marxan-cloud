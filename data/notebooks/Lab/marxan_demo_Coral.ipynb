{
 "cells": [
  {
   "cell_type": "markdown",
   "metadata": {},
   "source": [
    "# Coral Triangle case study\n",
    "\n",
    "- BLM calibration (There is no grid)\n",
    "- Solutions clustering\n",
    "- Gap Analysis\n",
    "- Unmet targtes pipeline\n",
    "- FPF calibration (Targets met)\n",
    "- Difference Map (There is no grid)\n",
    "\n",
    "Date: 20 April 2021  \n",
    "Author: tamara.huete@vizzuality.com"
   ]
  },
  {
   "cell_type": "markdown",
   "metadata": {},
   "source": [
    "### 1. Requirements"
   ]
  },
  {
   "cell_type": "code",
   "execution_count": 23,
   "metadata": {},
   "outputs": [],
   "source": [
    "%run marxan_utils.ipynb"
   ]
  },
  {
   "cell_type": "markdown",
   "metadata": {},
   "source": [
    "### 2. MARXAN folder"
   ]
  },
  {
   "cell_type": "code",
   "execution_count": 2,
   "metadata": {},
   "outputs": [],
   "source": [
    "MARXAN_FOLDER = '/home/jovyan/work/datasets/raw/demo_Coral_Triangle/marxan_Coral_Triangle_Case_Study'\n",
    "MARXAN_INPUTDATA = 'input.dat'"
   ]
  },
  {
   "cell_type": "markdown",
   "metadata": {},
   "source": [
    "### 3. BLM calibration (no grid file, can't calculate area to apply rule of thumb)"
   ]
  },
  {
   "cell_type": "code",
   "execution_count": null,
   "metadata": {},
   "outputs": [],
   "source": [
    "grid_file_path = f'{MARXAN_FOLDER}/pulayer/pu_base.shp'\n",
    "BLM_calibration(MARXAN_FOLDER,'input.dat',grid_file_path )"
   ]
  },
  {
   "cell_type": "markdown",
   "metadata": {},
   "source": [
    "## Execute marxan"
   ]
  },
  {
   "cell_type": "code",
   "execution_count": 3,
   "metadata": {},
   "outputs": [],
   "source": [
    "#execute marxan\n",
    "userInputFile = readInput(MARXAN_FOLDER, MARXAN_INPUTDATA)\n",
    "userInputFile.VERBOSITY = 3\n",
    "saveInput(MARXAN_FOLDER, MARXAN_INPUTDATA,userInputFile)"
   ]
  },
  {
   "cell_type": "code",
   "execution_count": 9,
   "metadata": {},
   "outputs": [
    {
     "name": "stdout",
     "output_type": "stream",
     "text": [
      "Marxan v 4.0.5\n",
      "\n",
      "Spatial Prioritization via Annealing\n",
      "\n",
      "Coded by Ian Ball, modified by Matthew Watts\n",
      "Written by Ian Ball and Hugh Possingham\n",
      "\n",
      "Marxan website\n",
      "\n",
      "https://marxansolutions.org/\n",
      "\n",
      "Running multithreaded over number of threads: 4\n",
      "\n",
      "Best run: 73 Best score: 3.84283e+07\n"
     ]
    }
   ],
   "source": [
    "execute_marxan(MARXAN_FOLDER)"
   ]
  },
  {
   "cell_type": "markdown",
   "metadata": {},
   "source": [
    "### SCENARIO OUTPUTS"
   ]
  },
  {
   "cell_type": "markdown",
   "metadata": {},
   "source": [
    "### 3) Solutions clustering"
   ]
  },
  {
   "cell_type": "code",
   "execution_count": 10,
   "metadata": {},
   "outputs": [
    {
     "name": "stdout",
     "output_type": "stream",
     "text": [
      "Overall best solution is 73\n"
     ]
    },
    {
     "data": {
      "text/plain": [
       "[45, 59, 73, 77, 63]"
      ]
     },
     "execution_count": 10,
     "metadata": {},
     "output_type": "execute_result"
    }
   ],
   "source": [
    "bestsols= clusterSolutions(MARXAN_FOLDER,'input.dat',k=5)\n",
    "bestsols"
   ]
  },
  {
   "cell_type": "markdown",
   "metadata": {},
   "source": [
    "#### Summary info 5 most different solutions"
   ]
  },
  {
   "cell_type": "code",
   "execution_count": 11,
   "metadata": {},
   "outputs": [
    {
     "data": {
      "text/html": [
       "<div>\n",
       "<style scoped>\n",
       "    .dataframe tbody tr th:only-of-type {\n",
       "        vertical-align: middle;\n",
       "    }\n",
       "\n",
       "    .dataframe tbody tr th {\n",
       "        vertical-align: top;\n",
       "    }\n",
       "\n",
       "    .dataframe thead th {\n",
       "        text-align: right;\n",
       "    }\n",
       "</style>\n",
       "<table border=\"1\" class=\"dataframe\">\n",
       "  <thead>\n",
       "    <tr style=\"text-align: right;\">\n",
       "      <th></th>\n",
       "      <th>Run_Number</th>\n",
       "      <th>Score</th>\n",
       "      <th>Cost</th>\n",
       "      <th>Planning_Units</th>\n",
       "      <th>Connectivity</th>\n",
       "      <th>Connectivity_Total</th>\n",
       "      <th>Connectivity_In</th>\n",
       "      <th>Connectivity_Edge</th>\n",
       "      <th>Connectivity_Out</th>\n",
       "      <th>Connectivity_In_Fraction</th>\n",
       "      <th>Penalty</th>\n",
       "      <th>Shortfall</th>\n",
       "      <th>Missing_Values</th>\n",
       "      <th>MPM</th>\n",
       "    </tr>\n",
       "  </thead>\n",
       "  <tbody>\n",
       "    <tr>\n",
       "      <th>44</th>\n",
       "      <td>45</td>\n",
       "      <td>39933000.0</td>\n",
       "      <td>39932800.0</td>\n",
       "      <td>3232</td>\n",
       "      <td>55100000.0</td>\n",
       "      <td>237740000.0</td>\n",
       "      <td>13870000.0</td>\n",
       "      <td>55100000.0</td>\n",
       "      <td>168770000.0</td>\n",
       "      <td>0.058341</td>\n",
       "      <td>129.039</td>\n",
       "      <td>9469.26</td>\n",
       "      <td>1</td>\n",
       "      <td>0.999994</td>\n",
       "    </tr>\n",
       "    <tr>\n",
       "      <th>58</th>\n",
       "      <td>59</td>\n",
       "      <td>38899000.0</td>\n",
       "      <td>38898800.0</td>\n",
       "      <td>3247</td>\n",
       "      <td>55890000.0</td>\n",
       "      <td>237740000.0</td>\n",
       "      <td>13630000.0</td>\n",
       "      <td>55890000.0</td>\n",
       "      <td>168220000.0</td>\n",
       "      <td>0.057332</td>\n",
       "      <td>220.647</td>\n",
       "      <td>10930.40</td>\n",
       "      <td>5</td>\n",
       "      <td>0.999995</td>\n",
       "    </tr>\n",
       "    <tr>\n",
       "      <th>62</th>\n",
       "      <td>63</td>\n",
       "      <td>39254200.0</td>\n",
       "      <td>39254000.0</td>\n",
       "      <td>3293</td>\n",
       "      <td>55960000.0</td>\n",
       "      <td>237740000.0</td>\n",
       "      <td>14140000.0</td>\n",
       "      <td>55960000.0</td>\n",
       "      <td>167640000.0</td>\n",
       "      <td>0.059477</td>\n",
       "      <td>181.734</td>\n",
       "      <td>7684.01</td>\n",
       "      <td>4</td>\n",
       "      <td>0.999992</td>\n",
       "    </tr>\n",
       "    <tr>\n",
       "      <th>72</th>\n",
       "      <td>73</td>\n",
       "      <td>38428300.0</td>\n",
       "      <td>38428000.0</td>\n",
       "      <td>3364</td>\n",
       "      <td>56420000.0</td>\n",
       "      <td>237740000.0</td>\n",
       "      <td>14900000.0</td>\n",
       "      <td>56420000.0</td>\n",
       "      <td>166420000.0</td>\n",
       "      <td>0.062673</td>\n",
       "      <td>320.607</td>\n",
       "      <td>32756.50</td>\n",
       "      <td>6</td>\n",
       "      <td>0.999994</td>\n",
       "    </tr>\n",
       "    <tr>\n",
       "      <th>76</th>\n",
       "      <td>77</td>\n",
       "      <td>40334900.0</td>\n",
       "      <td>40334600.0</td>\n",
       "      <td>3251</td>\n",
       "      <td>56410000.0</td>\n",
       "      <td>237740000.0</td>\n",
       "      <td>13080000.0</td>\n",
       "      <td>56410000.0</td>\n",
       "      <td>168250000.0</td>\n",
       "      <td>0.055018</td>\n",
       "      <td>210.248</td>\n",
       "      <td>9794.29</td>\n",
       "      <td>4</td>\n",
       "      <td>0.999995</td>\n",
       "    </tr>\n",
       "  </tbody>\n",
       "</table>\n",
       "</div>"
      ],
      "text/plain": [
       "    Run_Number       Score        Cost  Planning_Units  Connectivity  \\\n",
       "44          45  39933000.0  39932800.0            3232    55100000.0   \n",
       "58          59  38899000.0  38898800.0            3247    55890000.0   \n",
       "62          63  39254200.0  39254000.0            3293    55960000.0   \n",
       "72          73  38428300.0  38428000.0            3364    56420000.0   \n",
       "76          77  40334900.0  40334600.0            3251    56410000.0   \n",
       "\n",
       "    Connectivity_Total  Connectivity_In  Connectivity_Edge  Connectivity_Out  \\\n",
       "44         237740000.0       13870000.0         55100000.0       168770000.0   \n",
       "58         237740000.0       13630000.0         55890000.0       168220000.0   \n",
       "62         237740000.0       14140000.0         55960000.0       167640000.0   \n",
       "72         237740000.0       14900000.0         56420000.0       166420000.0   \n",
       "76         237740000.0       13080000.0         56410000.0       168250000.0   \n",
       "\n",
       "    Connectivity_In_Fraction  Penalty  Shortfall  Missing_Values       MPM  \n",
       "44                  0.058341  129.039    9469.26               1  0.999994  \n",
       "58                  0.057332  220.647   10930.40               5  0.999995  \n",
       "62                  0.059477  181.734    7684.01               4  0.999992  \n",
       "72                  0.062673  320.607   32756.50               6  0.999994  \n",
       "76                  0.055018  210.248    9794.29               4  0.999995  "
      ]
     },
     "execution_count": 11,
     "metadata": {},
     "output_type": "execute_result"
    }
   ],
   "source": [
    "summary = validateFile(MARXAN_FOLDER,'input.dat',OutputSum)\n",
    "sum_diff =summary[summary['Run_Number'].isin(bestsols)]\n",
    "sum_diff"
   ]
  },
  {
   "cell_type": "markdown",
   "metadata": {},
   "source": [
    "### 4) Gap Analysis"
   ]
  },
  {
   "cell_type": "code",
   "execution_count": 12,
   "metadata": {},
   "outputs": [],
   "source": [
    "df = gapAnalysis(MARXAN_FOLDER, 'input.dat')"
   ]
  },
  {
   "cell_type": "code",
   "execution_count": 13,
   "metadata": {},
   "outputs": [
    {
     "data": {
      "image/png": "[encoded data removed]",
      "text/plain": [
       "<Figure size 720x720 with 2 Axes>"
      ]
     },
     "metadata": {
      "needs_background": "light"
     },
     "output_type": "display_data"
    }
   ],
   "source": [
    "fig, anx = plt.subplots(nrows=1, ncols=2,figsize=(10,10), constrained_layout=True)\n",
    "plotGap(df, 'Pre-Marxan', anx[0], post_marxan=False)\n",
    "plotGap(df, 'Post-Marxan', anx[1], post_marxan=True)"
   ]
  },
  {
   "cell_type": "markdown",
   "metadata": {},
   "source": [
    "### 5) Unmet targets pipeline"
   ]
  },
  {
   "cell_type": "code",
   "execution_count": 15,
   "metadata": {},
   "outputs": [],
   "source": [
    "unmet_dict = unmetDecisionTree(MARXAN_FOLDER, 'input.dat',\n",
    "                      lock_out_limit=50, \n",
    "                      high_cost_quantile= 0.7, \n",
    "                      hcost_limit=20)"
   ]
  },
  {
   "cell_type": "code",
   "execution_count": 16,
   "metadata": {},
   "outputs": [
    {
     "data": {
      "text/plain": [
       "{1: 'Close to target (1% away of misslevel)',\n",
       " 2: 'Close to target (1% away of misslevel)',\n",
       " 5: 'Close to target (1% away of misslevel)',\n",
       " 6: 'Close to target (1% away of misslevel)',\n",
       " 7: 'Close to target (1% away of misslevel)',\n",
       " 9: 'Close to target (1% away of misslevel)'}"
      ]
     },
     "execution_count": 16,
     "metadata": {},
     "output_type": "execute_result"
    }
   ],
   "source": [
    "unmet_dict"
   ]
  },
  {
   "cell_type": "code",
   "execution_count": 24,
   "metadata": {},
   "outputs": [
    {
     "name": "stdout",
     "output_type": "stream",
     "text": [
      "\u001b[1m --> Running FPF_1...\u001b[0m\n",
      "Marxan v 4.0.5\n",
      "\n",
      "Spatial Prioritization via Annealing\n",
      "\n",
      "Coded by Ian Ball, modified by Matthew Watts\n",
      "Written by Ian Ball and Hugh Possingham\n",
      "\n",
      "Marxan website\n",
      "\n",
      "https://marxansolutions.org/\n",
      "\n",
      "Running multithreaded over number of threads: 4\n",
      "\n",
      "Best run: 1 Best score: 3.89587e+07\n",
      "\u001b[1m --> Running FPF_2...\u001b[0m\n",
      "Marxan v 4.0.5\n",
      "\n",
      "Spatial Prioritization via Annealing\n",
      "\n",
      "Coded by Ian Ball, modified by Matthew Watts\n",
      "Written by Ian Ball and Hugh Possingham\n",
      "\n",
      "Marxan website\n",
      "\n",
      "https://marxansolutions.org/\n",
      "\n",
      "Running multithreaded over number of threads: 4\n",
      "\n",
      "Best run: 2 Best score: 4.01685e+07\n",
      "\u001b[1m --> Running FPF_5...\u001b[0m\n",
      "Marxan v 4.0.5\n",
      "\n",
      "Spatial Prioritization via Annealing\n",
      "\n",
      "Coded by Ian Ball, modified by Matthew Watts\n",
      "\u001b[1m --> Running FPF_10...\u001b[0m\n",
      "Marxan v 4.0.5\n",
      "\n",
      "Spatial Prioritization via Annealing\n",
      "\n",
      "Coded by Ian Ball, modified by Matthew Watts\n",
      "Written by Ian Ball and Hugh Possingham\n",
      "\n",
      "Marxan website\n",
      "\n",
      "https://marxansolutions.org/\n",
      "\u001b[1m --> Running FPF_20...\u001b[0m\n",
      "Marxan v 4.0.5\n",
      "\n",
      "Spatial Prioritization via Annealing\n",
      "\n",
      "Coded by Ian Ball, modified by Matthew Watts\n",
      "Written by Ian Ball and Hugh Possingham\n",
      "\n",
      "Marxan website\n",
      "\n",
      "https://marxansolutions.org/\n",
      "\n",
      "Running multithreaded over number of threads: 4\n",
      "\n",
      "Best run: 4 Best score: 4.16345e+07\n",
      "\u001b[1m --> Running FPF_50...\u001b[0m\n",
      "Marxan v 4.0.5\n",
      "\n",
      "Spatial Prioritization via Annealing\n",
      "\n",
      "Coded by Ian Ball, modified by Matthew Watts\n",
      "Written by Ian Ball and Hugh Possingham\n",
      "\n",
      "\u001b[1m --> Running FPF_100...\u001b[0m\n",
      "Marxan v 4.0.5\n",
      "\n",
      "Spatial Prioritization via Annealing\n",
      "\n",
      "Coded by Ian Ball, modified by Matthew Watts\n",
      "Written by Ian Ball and Hugh Possingham\n",
      "\n",
      "Marxan website\n",
      "\n",
      "https://marxansolutions.org/\n",
      "\n",
      "Running multithreaded over number of threads: 4\n",
      "\n",
      "Best run: 5 Best score: 4.26239e+07\n"
     ]
    },
    {
     "data": {
      "image/png": "[encoded data removed]",
      "text/plain": [
       "<Figure size 360x360 with 1 Axes>"
      ]
     },
     "metadata": {
      "needs_background": "light"
     },
     "output_type": "display_data"
    }
   ],
   "source": [
    "best_multiplier = FPF_calibration(f'{MARXAN_FOLDER}',MARXAN_INPUTDATA, unmet_dict)"
   ]
  },
  {
   "cell_type": "code",
   "execution_count": 25,
   "metadata": {},
   "outputs": [
    {
     "data": {
      "text/plain": [
       "50"
      ]
     },
     "execution_count": 25,
     "metadata": {},
     "output_type": "execute_result"
    }
   ],
   "source": [
    "best_multiplier"
   ]
  },
  {
   "cell_type": "code",
   "execution_count": null,
   "metadata": {},
   "outputs": [],
   "source": []
  }
 ],
 "metadata": {
  "kernelspec": {
   "display_name": "Python 3",
   "language": "python",
   "name": "python3"
  },
  "language_info": {
   "codemirror_mode": {
    "name": "ipython",
    "version": 3
   },
   "file_extension": ".py",
   "mimetype": "text/x-python",
   "name": "python",
   "nbconvert_exporter": "python",
   "pygments_lexer": "ipython3",
   "version": "3.7.4"
  }
 },
 "nbformat": 4,
 "nbformat_minor": 4
}
