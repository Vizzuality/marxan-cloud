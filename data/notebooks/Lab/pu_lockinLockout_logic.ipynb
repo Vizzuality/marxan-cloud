{
 "cells": [
  {
   "cell_type": "markdown",
   "id": "af53f37a",
   "metadata": {},
   "source": [
    "A Geometry is passed for lockin or lockout operations, we need to:\n",
    "* Transform that geometry if it is a shapefile.\n",
    "* Validate that geometry (valid polygon in projection 4326)\n",
    "\n",
    "```sql\n",
    "UPDATE scenarios_pu_data\n",
    "SET (lockin_status) = <2 or 3>\n",
    "where id in (select id from scenarios_pu_data spd \n",
    "inner join planning_units_geom pug \n",
    "on spd.pu_geom_id = pug.id and spd.scenario_id ='<scenario_id>' and st_intersects(pug.the_geom, ST_GeomFromGeoJSON('')))\n",
    "```"
   ]
  },
  {
   "cell_type": "code",
   "execution_count": null,
   "id": "ada1e4e1",
   "metadata": {},
   "outputs": [],
   "source": []
  }
 ],
 "metadata": {
  "kernelspec": {
   "display_name": "Python 3",
   "language": "python",
   "name": "python3"
  },
  "language_info": {
   "codemirror_mode": {
    "name": "ipython",
    "version": 3
   },
   "file_extension": ".py",
   "mimetype": "text/x-python",
   "name": "python",
   "nbconvert_exporter": "python",
   "pygments_lexer": "ipython3",
   "version": "3.8.8"
  }
 },
 "nbformat": 4,
 "nbformat_minor": 5
}
