{
 "cells": [
  {
   "cell_type": "code",
   "execution_count": null,
   "id": "b39a5940",
   "metadata": {},
   "outputs": [],
   "source": [
    "# to bring all functions that we have develop for marxan.\n",
    "%run marxan_utils.ipynb"
   ]
  },
  {
   "cell_type": "markdown",
   "id": "0b0e3f6f",
   "metadata": {},
   "source": [
    "Files to be use:\n",
    "\n",
    "**output_sum.csv** maps to api.\n",
    "output_solutionmatrix.csv or output_rxxxx.csv  maps to\n",
    "output_mvxxxx.csv\n",
    "\n",
    "\n",
    "\n",
    "\n",
    "\n",
    "input\n",
    "\n",
    "puvsp.dat (PlanningUnitVSConservationFeature)\n",
    "spec.dat (conservationFeature)\n",
    "pu.dat (planningUnits)\n",
    "--- only if certain conditions in input.dat are met.\n",
    "\n",
    "bound.dat (boundaryLength) only if blm > 0\n",
    "\n",
    ".dat (blockDefinition) only if we group features/species\n",
    "\n",
    "output"
   ]
  }
 ],
 "metadata": {
  "kernelspec": {
   "display_name": "Python 3",
   "language": "python",
   "name": "python3"
  },
  "language_info": {
   "codemirror_mode": {
    "name": "ipython",
    "version": 3
   },
   "file_extension": ".py",
   "mimetype": "text/x-python",
   "name": "python",
   "nbconvert_exporter": "python",
   "pygments_lexer": "ipython3",
   "version": "3.8.8"
  }
 },
 "nbformat": 4,
 "nbformat_minor": 5
}
