{
 "cells": [
  {
   "cell_type": "code",
   "execution_count": null,
   "id": "e84d64b6",
   "metadata": {},
   "outputs": [],
   "source": [
    "# to bring all functions that we have develop for marxan.\n",
    "%run marxan_utils.ipynb"
   ]
  },
  {
   "cell_type": "markdown",
   "id": "763608a6",
   "metadata": {},
   "source": [
    "Files to be use:\n",
    "\n",
    "* **output_sum.csv** maps to api.output_scenarios_summaries  \n",
    "* **output_solutionmatrix.csv** or **output_rxxxx.csv**  maps to output_scenarios_pu_data\n",
    "* **output_mvxxxx.csv** output_scenarios_features_data\n",
    "\n"
   ]
  },
  {
   "cell_type": "code",
   "execution_count": null,
   "id": "496f4c84",
   "metadata": {},
   "outputs": [],
   "source": [
    "boundaryLength?"
   ]
  }
 ],
 "metadata": {
  "kernelspec": {
   "display_name": "Python 3",
   "language": "python",
   "name": "python3"
  },
  "language_info": {
   "codemirror_mode": {
    "name": "ipython",
    "version": 3
   },
   "file_extension": ".py",
   "mimetype": "text/x-python",
   "name": "python",
   "nbconvert_exporter": "python",
   "pygments_lexer": "ipython3",
   "version": "3.8.8"
  }
 },
 "nbformat": 4,
 "nbformat_minor": 5
}
