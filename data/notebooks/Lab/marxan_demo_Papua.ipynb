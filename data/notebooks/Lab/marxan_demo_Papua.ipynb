{
 "cells": [
  {
   "cell_type": "markdown",
   "metadata": {},
   "source": [
    "# Papua New Guinea case study\n",
    "\n",
    "- BLM calibration (There is no grid)\n",
    "- Solutions clustering\n",
    "- Gap Analysis\n",
    "- Unmet targtes pipeline\n",
    "- FPF calibration (Targets met)\n",
    "- Difference Map (There is no grid)\n",
    "\n",
    "Date: 20 April 2021  \n",
    "Author: tamara.huete@vizzuality.com"
   ]
  },
  {
   "cell_type": "markdown",
   "metadata": {},
   "source": [
    "### 1. Requirements"
   ]
  },
  {
   "cell_type": "code",
   "execution_count": 29,
   "metadata": {},
   "outputs": [],
   "source": [
    "%run marxan_utils.ipynb"
   ]
  },
  {
   "cell_type": "markdown",
   "metadata": {},
   "source": [
    "### 2. MARXAN folder"
   ]
  },
  {
   "cell_type": "code",
   "execution_count": 21,
   "metadata": {},
   "outputs": [],
   "source": [
    "MARXAN_FOLDER = '/home/jovyan/work/datasets/raw/demo_Papua_New_Guinea/marxan_Papua_New_Guinea'\n",
    "MARXAN_INPUTDATA = 'input.dat'"
   ]
  },
  {
   "cell_type": "markdown",
   "metadata": {},
   "source": [
    "### 3. BLM calibration (no grid file, can't calculate area to apply rule of thumb)"
   ]
  },
  {
   "cell_type": "code",
   "execution_count": null,
   "metadata": {},
   "outputs": [],
   "source": [
    "grid_file_path = f'{MARXAN_FOLDER}/pulayer/pu_base.shp'\n",
    "BLM_calibration(MARXAN_FOLDER,'input.dat',grid_file_path )"
   ]
  },
  {
   "cell_type": "code",
   "execution_count": null,
   "metadata": {},
   "outputs": [],
   "source": [
    "plotClumping(MARXAN_FOLDER,'input.dat',grid_file_path)"
   ]
  },
  {
   "cell_type": "markdown",
   "metadata": {},
   "source": [
    "## Execute marxan"
   ]
  },
  {
   "cell_type": "code",
   "execution_count": 26,
   "metadata": {},
   "outputs": [],
   "source": [
    "#execute marxan\n",
    "userInputFile = readInput(MARXAN_FOLDER, MARXAN_INPUTDATA)\n",
    "userInputFile.VERBOSITY = 3\n",
    "saveInput(MARXAN_FOLDER, MARXAN_INPUTDATA,userInputFile)"
   ]
  },
  {
   "cell_type": "code",
   "execution_count": null,
   "metadata": {},
   "outputs": [],
   "source": [
    "execute_marxan(MARXAN_FOLDER) ### Runs with the old algorithm but fails with the new one"
   ]
  },
  {
   "cell_type": "markdown",
   "metadata": {},
   "source": [
    "### SCENARIO OUTPUTS"
   ]
  },
  {
   "cell_type": "markdown",
   "metadata": {},
   "source": [
    "### 3) Solutions clustering"
   ]
  },
  {
   "cell_type": "code",
   "execution_count": 31,
   "metadata": {},
   "outputs": [
    {
     "name": "stdout",
     "output_type": "stream",
     "text": [
      "Overall best solution is 1\n"
     ]
    },
    {
     "data": {
      "text/plain": [
       "[1, 7, 8, 3, 10]"
      ]
     },
     "execution_count": 31,
     "metadata": {},
     "output_type": "execute_result"
    }
   ],
   "source": [
    "bestsols= clusterSolutions(MARXAN_FOLDER,'input.dat',k=5)\n",
    "bestsols"
   ]
  },
  {
   "cell_type": "markdown",
   "metadata": {},
   "source": [
    "#### Summary info 5 most different solutions"
   ]
  },
  {
   "cell_type": "code",
   "execution_count": 32,
   "metadata": {},
   "outputs": [
    {
     "data": {
      "text/html": [
       "<div>\n",
       "<style scoped>\n",
       "    .dataframe tbody tr th:only-of-type {\n",
       "        vertical-align: middle;\n",
       "    }\n",
       "\n",
       "    .dataframe tbody tr th {\n",
       "        vertical-align: top;\n",
       "    }\n",
       "\n",
       "    .dataframe thead th {\n",
       "        text-align: right;\n",
       "    }\n",
       "</style>\n",
       "<table border=\"1\" class=\"dataframe\">\n",
       "  <thead>\n",
       "    <tr style=\"text-align: right;\">\n",
       "      <th></th>\n",
       "      <th>Run_Number</th>\n",
       "      <th>Score</th>\n",
       "      <th>Cost</th>\n",
       "      <th>Planning_Units</th>\n",
       "      <th>Connectivity</th>\n",
       "      <th>Connectivity_Total</th>\n",
       "      <th>Connectivity_In</th>\n",
       "      <th>Connectivity_Edge</th>\n",
       "      <th>Connectivity_Out</th>\n",
       "      <th>Connectivity_In_Fraction</th>\n",
       "      <th>Penalty</th>\n",
       "      <th>Shortfall</th>\n",
       "      <th>Missing_Values</th>\n",
       "      <th>MPM</th>\n",
       "    </tr>\n",
       "  </thead>\n",
       "  <tbody>\n",
       "    <tr>\n",
       "      <th>0</th>\n",
       "      <td>1</td>\n",
       "      <td>2.224783e+08</td>\n",
       "      <td>1.296565e+08</td>\n",
       "      <td>5114</td>\n",
       "      <td>22902301.0</td>\n",
       "      <td>664787887.0</td>\n",
       "      <td>55640321.0</td>\n",
       "      <td>22902301.0</td>\n",
       "      <td>586245265.0</td>\n",
       "      <td>0.083696</td>\n",
       "      <td>67488.541940</td>\n",
       "      <td>6342.385499</td>\n",
       "      <td>0</td>\n",
       "      <td>0.997146</td>\n",
       "    </tr>\n",
       "    <tr>\n",
       "      <th>2</th>\n",
       "      <td>3</td>\n",
       "      <td>2.278626e+08</td>\n",
       "      <td>1.349057e+08</td>\n",
       "      <td>5107</td>\n",
       "      <td>22937386.0</td>\n",
       "      <td>664787887.0</td>\n",
       "      <td>55482389.0</td>\n",
       "      <td>22937386.0</td>\n",
       "      <td>586368112.0</td>\n",
       "      <td>0.083459</td>\n",
       "      <td>60452.963580</td>\n",
       "      <td>133286.909344</td>\n",
       "      <td>0</td>\n",
       "      <td>0.995972</td>\n",
       "    </tr>\n",
       "    <tr>\n",
       "      <th>6</th>\n",
       "      <td>7</td>\n",
       "      <td>2.286940e+08</td>\n",
       "      <td>1.297862e+08</td>\n",
       "      <td>5071</td>\n",
       "      <td>24404852.0</td>\n",
       "      <td>664787887.0</td>\n",
       "      <td>54341769.0</td>\n",
       "      <td>24404852.0</td>\n",
       "      <td>586041266.0</td>\n",
       "      <td>0.081743</td>\n",
       "      <td>68116.993347</td>\n",
       "      <td>4902.865259</td>\n",
       "      <td>0</td>\n",
       "      <td>0.996330</td>\n",
       "    </tr>\n",
       "    <tr>\n",
       "      <th>7</th>\n",
       "      <td>8</td>\n",
       "      <td>2.249302e+08</td>\n",
       "      <td>1.313776e+08</td>\n",
       "      <td>5097</td>\n",
       "      <td>23095334.0</td>\n",
       "      <td>664787887.0</td>\n",
       "      <td>55355166.0</td>\n",
       "      <td>23095334.0</td>\n",
       "      <td>586337387.0</td>\n",
       "      <td>0.083267</td>\n",
       "      <td>16510.255353</td>\n",
       "      <td>52284.840733</td>\n",
       "      <td>0</td>\n",
       "      <td>0.999915</td>\n",
       "    </tr>\n",
       "    <tr>\n",
       "      <th>9</th>\n",
       "      <td>10</td>\n",
       "      <td>2.285567e+08</td>\n",
       "      <td>1.317815e+08</td>\n",
       "      <td>5110</td>\n",
       "      <td>23893771.0</td>\n",
       "      <td>664787887.0</td>\n",
       "      <td>55148977.0</td>\n",
       "      <td>23893771.0</td>\n",
       "      <td>585745139.0</td>\n",
       "      <td>0.082957</td>\n",
       "      <td>5392.868049</td>\n",
       "      <td>45833.407325</td>\n",
       "      <td>0</td>\n",
       "      <td>0.999675</td>\n",
       "    </tr>\n",
       "  </tbody>\n",
       "</table>\n",
       "</div>"
      ],
      "text/plain": [
       "   Run_Number         Score          Cost  Planning_Units  Connectivity  \\\n",
       "0           1  2.224783e+08  1.296565e+08            5114    22902301.0   \n",
       "2           3  2.278626e+08  1.349057e+08            5107    22937386.0   \n",
       "6           7  2.286940e+08  1.297862e+08            5071    24404852.0   \n",
       "7           8  2.249302e+08  1.313776e+08            5097    23095334.0   \n",
       "9          10  2.285567e+08  1.317815e+08            5110    23893771.0   \n",
       "\n",
       "   Connectivity_Total  Connectivity_In  Connectivity_Edge  Connectivity_Out  \\\n",
       "0         664787887.0       55640321.0         22902301.0       586245265.0   \n",
       "2         664787887.0       55482389.0         22937386.0       586368112.0   \n",
       "6         664787887.0       54341769.0         24404852.0       586041266.0   \n",
       "7         664787887.0       55355166.0         23095334.0       586337387.0   \n",
       "9         664787887.0       55148977.0         23893771.0       585745139.0   \n",
       "\n",
       "   Connectivity_In_Fraction       Penalty      Shortfall  Missing_Values  \\\n",
       "0                  0.083696  67488.541940    6342.385499               0   \n",
       "2                  0.083459  60452.963580  133286.909344               0   \n",
       "6                  0.081743  68116.993347    4902.865259               0   \n",
       "7                  0.083267  16510.255353   52284.840733               0   \n",
       "9                  0.082957   5392.868049   45833.407325               0   \n",
       "\n",
       "        MPM  \n",
       "0  0.997146  \n",
       "2  0.995972  \n",
       "6  0.996330  \n",
       "7  0.999915  \n",
       "9  0.999675  "
      ]
     },
     "execution_count": 32,
     "metadata": {},
     "output_type": "execute_result"
    }
   ],
   "source": [
    "summary = validateFile(MARXAN_FOLDER,'input.dat',OutputSum)\n",
    "sum_diff =summary[summary['Run_Number'].isin(bestsols)]\n",
    "sum_diff"
   ]
  },
  {
   "cell_type": "markdown",
   "metadata": {},
   "source": [
    "### 4) Gap Analysis"
   ]
  },
  {
   "cell_type": "code",
   "execution_count": 33,
   "metadata": {},
   "outputs": [],
   "source": [
    "df = gapAnalysis(MARXAN_FOLDER, 'input.dat')"
   ]
  },
  {
   "cell_type": "code",
   "execution_count": 34,
   "metadata": {},
   "outputs": [
    {
     "data": {
      "image/png": "[encoded data removed]",
      "text/plain": [
       "<Figure size 720x720 with 2 Axes>"
      ]
     },
     "metadata": {
      "needs_background": "light"
     },
     "output_type": "display_data"
    }
   ],
   "source": [
    "fig, anx = plt.subplots(nrows=1, ncols=2,figsize=(10,10), constrained_layout=True)\n",
    "plotGap(df, 'Pre-Marxan', anx[0], post_marxan=False)\n",
    "plotGap(df, 'Post-Marxan', anx[1], post_marxan=True)"
   ]
  },
  {
   "cell_type": "markdown",
   "metadata": {},
   "source": [
    "### 5) Unmet targets pipeline"
   ]
  },
  {
   "cell_type": "code",
   "execution_count": 35,
   "metadata": {},
   "outputs": [
    {
     "data": {
      "text/plain": [
       "{'None': 'All targets met'}"
      ]
     },
     "execution_count": 35,
     "metadata": {},
     "output_type": "execute_result"
    }
   ],
   "source": [
    "unmetDecisionTree(MARXAN_FOLDER, 'input.dat',\n",
    "                      lock_out_limit=50, \n",
    "                      high_cost_quantile= 0.7, \n",
    "                      hcost_limit=20)"
   ]
  },
  {
   "cell_type": "code",
   "execution_count": null,
   "metadata": {},
   "outputs": [],
   "source": []
  }
 ],
 "metadata": {
  "kernelspec": {
   "display_name": "Python 3",
   "language": "python",
   "name": "python3"
  },
  "language_info": {
   "codemirror_mode": {
    "name": "ipython",
    "version": 3
   },
   "file_extension": ".py",
   "mimetype": "text/x-python",
   "name": "python",
   "nbconvert_exporter": "python",
   "pygments_lexer": "ipython3",
   "version": "3.8.8"
  }
 },
 "nbformat": 4,
 "nbformat_minor": 4
}
