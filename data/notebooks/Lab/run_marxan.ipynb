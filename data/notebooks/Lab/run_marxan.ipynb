{
 "cells": [
  {
   "cell_type": "code",
   "execution_count": 8,
   "metadata": {},
   "outputs": [],
   "source": [
    "import subprocess"
   ]
  },
  {
   "cell_type": "code",
   "execution_count": 14,
   "metadata": {},
   "outputs": [],
   "source": [
    "MARXAN_EXECUTABLE = '/home/jovyan/work/datasets/raw/marxan/MarOpt_v243_Linux64'\n",
    "MARXAN_INPUTDATA = 'input.dat'"
   ]
  },
  {
   "cell_type": "code",
   "execution_count": 19,
   "metadata": {},
   "outputs": [
    {
     "name": "stdout",
     "output_type": "stream",
     "text": [
      "143\n",
      "        Marxan v 2.43 \n",
      "\n",
      "   Marine Reserve Design via Annealing\n",
      "\n",
      "   Coded by Ian Ball, modified by Matthew Watts\n",
      "   Written by Ian Ball and Hugh Possingham\n",
      "\n",
      "ian.ball@aad.gov.au\n",
      "h.possingham@uq.edu.au\n",
      "m.watts@uq.edu.au\n",
      "\n",
      "   Marxan website\n",
      "\n",
      "http://www.uq.edu.au/marxan\n",
      "\n",
      "input file input.dat not found\n",
      "Aborting Program.\n",
      "\n",
      "Press return to exit.\n",
      " \n"
     ]
    }
   ],
   "source": [
    "process = subprocess.Popen([MARXAN_EXECUTABLE],\n",
    "                             stdout=subprocess.PIPE,\n",
    "                             stdin = subprocess.PIPE,\n",
    "                             stderr=subprocess.PIPE,\n",
    "                             universal_newlines=True)\n",
    "#while True:\n",
    "#    output = process.stdout.readline()\n",
    "#    print(output.strip())\n",
    "#    # Do something else\n",
    "#    return_code = process.poll()\n",
    "#    if return_code is not None:\n",
    "#        print('RETURN CODE', return_code)\n",
    "#        # Process has finished, read rest of the output \n",
    "#        for output in process.stdout.readlines():\n",
    "#            print(output.strip())\n",
    "#        break\n",
    "print(process.pid)\n",
    "stdout, stderr = process.communicate()\n",
    "print(stdout, stderr)"
   ]
  },
  {
   "cell_type": "code",
   "execution_count": 15,
   "metadata": {},
   "outputs": [
    {
     "name": "stdout",
     "output_type": "stream",
     "text": [
      "/home/jovyan/work\n"
     ]
    }
   ],
   "source": [
    "!pwd"
   ]
  },
  {
   "cell_type": "code",
   "execution_count": 34,
   "metadata": {},
   "outputs": [
    {
     "name": "stdout",
     "output_type": "stream",
     "text": [
      "input  input.dat  MarOpt_v243_Linux64\n"
     ]
    }
   ],
   "source": [
    "!ls /home/jovyan/work/datasets/raw/marxan"
   ]
  },
  {
   "cell_type": "code",
   "execution_count": 20,
   "metadata": {},
   "outputs": [],
   "source": [
    "import os "
   ]
  },
  {
   "cell_type": "code",
   "execution_count": 21,
   "metadata": {},
   "outputs": [
    {
     "ename": "NameError",
     "evalue": "name '__file__' is not defined",
     "output_type": "error",
     "traceback": [
      "\u001b[0;31m---------------------------------------------------------------------------\u001b[0m",
      "\u001b[0;31mNameError\u001b[0m                                 Traceback (most recent call last)",
      "\u001b[0;32m<ipython-input-21-6b43ef34a7f0>\u001b[0m in \u001b[0;36m<module>\u001b[0;34m\u001b[0m\n\u001b[0;32m----> 1\u001b[0;31m \u001b[0mMARXAN_FOLDER\u001b[0m \u001b[0;34m=\u001b[0m \u001b[0mos\u001b[0m\u001b[0;34m.\u001b[0m\u001b[0mpath\u001b[0m\u001b[0;34m.\u001b[0m\u001b[0mdirname\u001b[0m\u001b[0;34m(\u001b[0m\u001b[0mos\u001b[0m\u001b[0;34m.\u001b[0m\u001b[0mpath\u001b[0m\u001b[0;34m.\u001b[0m\u001b[0mrealpath\u001b[0m\u001b[0;34m(\u001b[0m\u001b[0m__file__\u001b[0m\u001b[0;34m)\u001b[0m\u001b[0;34m)\u001b[0m \u001b[0;34m+\u001b[0m \u001b[0mos\u001b[0m\u001b[0;34m.\u001b[0m\u001b[0msep\u001b[0m\u001b[0;34m\u001b[0m\u001b[0;34m\u001b[0m\u001b[0m\n\u001b[0m",
      "\u001b[0;31mNameError\u001b[0m: name '__file__' is not defined"
     ]
    }
   ],
   "source": [
    "MARXAN_FOLDER = os.path.dirname(os.path.realpath(__file__)) + os.sep"
   ]
  },
  {
   "cell_type": "code",
   "execution_count": 22,
   "metadata": {},
   "outputs": [
    {
     "data": {
      "text/plain": [
       "'/home/jovyan/work/notebooks/Lab'"
      ]
     },
     "execution_count": 22,
     "metadata": {},
     "output_type": "execute_result"
    }
   ],
   "source": [
    "pwd"
   ]
  },
  {
   "cell_type": "code",
   "execution_count": null,
   "metadata": {},
   "outputs": [],
   "source": []
  }
 ],
 "metadata": {
  "kernelspec": {
   "display_name": "Python 3",
   "language": "python",
   "name": "python3"
  },
  "language_info": {
   "codemirror_mode": {
    "name": "ipython",
    "version": 3
   },
   "file_extension": ".py",
   "mimetype": "text/x-python",
   "name": "python",
   "nbconvert_exporter": "python",
   "pygments_lexer": "ipython3",
   "version": "3.8.6"
  }
 },
 "nbformat": 4,
 "nbformat_minor": 4
}
