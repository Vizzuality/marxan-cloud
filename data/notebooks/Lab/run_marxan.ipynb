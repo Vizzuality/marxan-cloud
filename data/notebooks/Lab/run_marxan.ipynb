{
 "cells": [
  {
   "cell_type": "code",
   "execution_count": 1,
   "metadata": {},
   "outputs": [],
   "source": [
    "import subprocess"
   ]
  },
  {
   "cell_type": "code",
   "execution_count": 11,
   "metadata": {},
   "outputs": [],
   "source": [
    "MARXAN_EXECUTABLE = '/home/jovyan/work/notebooks/MarOpt_v243_Linux64'"
   ]
  },
  {
   "cell_type": "code",
   "execution_count": 12,
   "metadata": {},
   "outputs": [
    {
     "name": "stdout",
     "output_type": "stream",
     "text": [
      "        Marxan v 2.43 \n",
      "\n",
      "   Marine Reserve Design via Annealing\n",
      "\n",
      "   Coded by Ian Ball, modified by Matthew Watts\n",
      "   Written by Ian Ball and Hugh Possingham\n",
      "\n",
      "ian.ball@aad.gov.au\n",
      "h.possingham@uq.edu.au\n",
      "m.watts@uq.edu.au\n",
      "\n",
      "   Marxan website\n",
      "\n",
      "http://www.uq.edu.au/marxan\n",
      "\n",
      "input file input.dat not found\n",
      "Aborting Program.\n",
      "\n",
      "Press return to exit.\n",
      " \n"
     ]
    }
   ],
   "source": [
    "process = subprocess.Popen([MARXAN_EXECUTABLE],\n",
    "                             stdout=subprocess.PIPE,\n",
    "                             stdin = subprocess.PIPE,\n",
    "                             stderr=subprocess.PIPE,\n",
    "                             universal_newlines=True)\n",
    "stdout, stderr = process.communicate()\n",
    "print(stdout, stderr)"
   ]
  },
  {
   "cell_type": "code",
   "execution_count": null,
   "metadata": {},
   "outputs": [],
   "source": []
  }
 ],
 "metadata": {
  "kernelspec": {
   "display_name": "Python 3",
   "language": "python",
   "name": "python3"
  },
  "language_info": {
   "codemirror_mode": {
    "name": "ipython",
    "version": 3
   },
   "file_extension": ".py",
   "mimetype": "text/x-python",
   "name": "python",
   "nbconvert_exporter": "python",
   "pygments_lexer": "ipython3",
   "version": "3.8.6"
  }
 },
 "nbformat": 4,
 "nbformat_minor": 4
}
