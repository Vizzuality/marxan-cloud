{
 "cells": [
  {
   "cell_type": "markdown",
   "metadata": {},
   "source": [
    "# Output models"
   ]
  },
  {
   "cell_type": "markdown",
   "metadata": {},
   "source": [
    "Class models for different types of output files"
   ]
  },
  {
   "cell_type": "code",
   "execution_count": 84,
   "metadata": {},
   "outputs": [],
   "source": [
    "from pydantic import BaseModel, ValidationError, validator, Field\n",
    "from pydantic.generics import GenericModel\n",
    "%run marxan_utils.ipynb"
   ]
  },
  {
   "cell_type": "code",
   "execution_count": 104,
   "metadata": {},
   "outputs": [],
   "source": [
    "MARXAN_FOLDER = '/home/jovyan/work/datasets/raw/Marxan_BLM/BLM_0.001'\n",
    "InputFile = DatFile(f'{MARXAN_FOLDER}/input.dat')\n",
    "InputFile.read()\n",
    "userInputFile = inputDatFile.from_dat(InputFile.data)\n",
    "filename = f'{MARXAN_FOLDER}/{userInputFile.OUTPUTDIR}/{userInputFile.SCENNAME}_r00001.csv'"
   ]
  },
  {
   "cell_type": "code",
   "execution_count": 107,
   "metadata": {},
   "outputs": [],
   "source": [
    "class OutputRun(BaseModel): \n",
    "    \"\"\"\n",
    "    Class of files _r00001.csv and _best.csv\n",
    "    \"\"\"\n",
    "# General Parameters\n",
    "    PUID: int = Field(title='Planning Unit id', \n",
    "                         description='List of planning units')\n",
    "    SOLUTION:  int = Field(title='Solution', \n",
    "                           description='Planning unit included in this solution if 1, not included if 0',\n",
    "                           ge =0, le =1)"
   ]
  },
  {
   "cell_type": "code",
   "execution_count": 106,
   "metadata": {},
   "outputs": [
    {
     "data": {
      "text/plain": [
       "[OutputRun(PUID=1, SOLUTION=1), OutputRun(PUID=2, SOLUTION=0)]"
      ]
     },
     "execution_count": 106,
     "metadata": {},
     "output_type": "execute_result"
    }
   ],
   "source": [
    "CreateListModelFromFile(filename, OutputRun)[0:2]"
   ]
  },
  {
   "cell_type": "code",
   "execution_count": 111,
   "metadata": {},
   "outputs": [],
   "source": [
    "class OutputMV(object):\n",
    "    \"\"\"\n",
    "    Class of files mv00001.csv\n",
    "    \"\"\"\n",
    "# General Parameters\n",
    "    Conservation_Feature: int = Field(title = 'Conservation feature id',\n",
    "                                      description ='The unique ID number of the conservation feature')\n",
    "    Feature_Name: str = Field(title = 'Feature Name',\n",
    "                               description = 'The optional alphabetic name of the conservation feature.\\\n",
    "                               If no name has been specified then nothing will appear in this column.')\n",
    "    Target: float = Field(title= 'target',\n",
    "                           description = 'The target level of representation (if any) for that conservation feature')\n",
    "    Amount_Held: float = Field(title = 'Amount held',\n",
    "                                description = 'The amount of that conservation feature captured in the reserve system')\n",
    "    Occurrence_Target: float = Field(title = 'Occurrence target',\n",
    "                                     description ='The target number of occurrences in the reserve system for that conservation feature')\n",
    "    Occurrences_Held: float = Field(title= 'Ocurrence s held',\n",
    "                                    description= 'The number of occurrences of the conservation feature captured in the solution.\\\n",
    "                                    Again, only occurrences in valid clumps are included')\n",
    "    Separation_Target: float = Field (title= 'Separation target',\n",
    "                                     description = 'The number of mutually and adequately separated occurrences of that\\\n",
    "                                     conservation feature required in the reserve system')\n",
    "    Separation_Achieved: float = Field(title = 'Separation Achieved',\n",
    "                                      description= 'The number reported here will be the lowest of either: the number of \\\n",
    "                                      separate occurrences that are actually achieved in the reserve system ; or the target \\\n",
    "                                      number of separate occurrences. The separation count (see Appendix B-1.3.1) never exceeds \\\n",
    "                                      the separation target for that feature. This is a convention which speeds up the execution \\\n",
    "                                      of the software but it means that no information is given about how far this target is exceeded.' )\n",
    "    Target_Met: str = Field(title= 'Target met',\n",
    "                           description = 'An alphabetic variable that returns ‘yes’ if all the targets set for that feature are met,\\\n",
    "                           otherwise it returns ‘no’')\n",
    "    MPM: float = Field (title= 'Minimum Proportion Met',\n",
    "                       description= 'Propotion of target met, min in 0 max i 1')"
   ]
  },
  {
   "cell_type": "code",
   "execution_count": null,
   "metadata": {},
   "outputs": [],
   "source": [
    "class OutputSolMatrix(object):\n",
    "    \"\"\"\n",
    "    Class of files solutionsmatrix.csv\n",
    "    \"\"\""
   ]
  },
  {
   "cell_type": "code",
   "execution_count": null,
   "metadata": {},
   "outputs": [],
   "source": [
    "class OutputSsoln(object):\n",
    "    \"\"\"\n",
    "    Class of files solutionsmatrix.csv\n",
    "    \"\"\""
   ]
  },
  {
   "cell_type": "code",
   "execution_count": null,
   "metadata": {},
   "outputs": [],
   "source": [
    "class OutputSum(object):\n",
    "    \"\"\"\n",
    "    Class of files solutionsmatrix.csv\n",
    "    \"\"\""
   ]
  },
  {
   "cell_type": "code",
   "execution_count": null,
   "metadata": {},
   "outputs": [],
   "source": [
    "class OutputSen(object):\n",
    "    \"\"\"\n",
    "    Class of files solutionsmatrix.csv\n",
    "    \"\"\""
   ]
  },
  {
   "cell_type": "code",
   "execution_count": null,
   "metadata": {},
   "outputs": [],
   "source": [
    "class OutputLog(object):\n",
    "    \"\"\"\n",
    "    Class of files solutionsmatrix.csv\n",
    "    \"\"\""
   ]
  },
  {
   "cell_type": "markdown",
   "metadata": {},
   "source": [
    "## A second heading"
   ]
  },
  {
   "cell_type": "markdown",
   "metadata": {},
   "source": [
    "and some more text"
   ]
  },
  {
   "cell_type": "code",
   "execution_count": null,
   "metadata": {},
   "outputs": [],
   "source": []
  }
 ],
 "metadata": {
  "kernelspec": {
   "display_name": "Python 3",
   "language": "python",
   "name": "python3"
  },
  "language_info": {
   "codemirror_mode": {
    "name": "ipython",
    "version": 3
   },
   "file_extension": ".py",
   "mimetype": "text/x-python",
   "name": "python",
   "nbconvert_exporter": "python",
   "pygments_lexer": "ipython3",
   "version": "3.8.8"
  }
 },
 "nbformat": 4,
 "nbformat_minor": 4
}
